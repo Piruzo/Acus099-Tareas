{
 "cells": [
  {
   "cell_type": "markdown",
   "id": "2b17ea6b-d385-4b4f-8d03-72fa11dc6c7f",
   "metadata": {},
   "source": [
    "<p style=\"text-align:center\">\n",
    "<img src=\"logo_uach-614a369aa9528.png\"\n",
    "width=\"600\" height=\"600\" alt=\"Tiny\">\n",
    "\n",
    "<p style='text-align: center;'><em>Integrantes: Aldo Henríquez y Mauricio Martínez</em></p>\n",
    "<p style='text-align: center;'><em>Profesor: Victor Poblete</em></p>\n",
    "<p style='text-align: center;'><em>Ayudante: Esteban Vargas</em></p>\n",
    "\n",
    "<h1 style= 'text-align: ;'> Tarea 2: Suma de Convolución </h1>"
   ]
  },
  {
   "cell_type": "markdown",
   "id": "8ab0ef99-97d1-4f5c-a457-961cbb0aa32c",
   "metadata": {},
   "source": [
    "# Índice \n",
    "* [Introducción](#id1) \n",
    "* [Sistemas en tiempo discreto](#id2)\n",
    "   * [Sistemas lineales](#id2.1)\n",
    "   * [Sistemas invariantes en el tiempo](#id2.2)\n",
    "   * [Sistemas lineales e invariantes en el tiempo (LTI)](#id2.3)\n",
    "* [Suma de Convolución](#id3)\n",
    "* [Solución Analítica](#id4)\n",
    "* [Código](#id5)"
   ]
  },
  {
   "cell_type": "markdown",
   "id": "ec47c601-2a36-4e92-a252-f7eccf563972",
   "metadata": {},
   "source": [
    "# Introducción <a name='id1'></a>\n",
    "En el procesamiento de señales, la convolución es una operación matemática fundamental que combina dos señales en el mismo dominio del tiempo para generar una tercera señal, que representa la respuesta de un sistema a una entrada. En el caso de las señales acústicas, la convolución se utiliza para simular y modelar cómo los sistemas físicos, como salas, filtros y otros dispositivos de procesamiento de señales, afectan las señales de audio.\n",
    "\n",
    "La convolución se utiliza ampliamente en el campo de las señales acústicas para varios propósitos: \n",
    "1) Simulación de Entornos Acústicos\n",
    "2) Filtrado de Señales de Audio\n",
    "3) Análisis y Diseño de Sistemas Acústicos.\n"
   ]
  },
  {
   "cell_type": "markdown",
   "id": "fb42ff06-ebe6-4c00-b5db-5818a634d911",
   "metadata": {},
   "source": [
    "# Función Delta Unitario\n",
    "\n",
    "\n",
    "\\begin{align}\n",
    " \\delta[n] &= \\begin{cases}\n",
    "0  & ; & x \\neq 0 \\\\\n",
    "1  & ; & x = 0\n",
    "\\end{cases}\n",
    "\\end{align}"
   ]
  },
  {
   "cell_type": "markdown",
   "id": "0f3dc378-6de8-43e7-9934-ee66ec4c847d",
   "metadata": {},
   "source": [
    "# Sistemas en tiempo discreto\n",
    "Se define como una transformación que va variando o modificando una señal discreta de entrada $x[n]$ a una señal de salida $y[n]$\n",
    "\n",
    "\\begin{align*}\n",
    "y[n] &= T\\big\\{x[n]\\big\\}\n",
    "\\end{align*}\n"
   ]
  },
  {
   "cell_type": "markdown",
   "id": "7b0280ae-7c92-4cdf-abfa-721a8712a99d",
   "metadata": {},
   "source": [
    "## Sistemas Lineales <a name='id2.1'></a>\n",
    "Un sistema lineal es aquel que satisface la propiedad de superposición. Suponiendo que, $y_{1}[n]$ y $y_{2}[n]$ son las respuestas de un sistema, cuando $x_{1}[n]$ y $x_{2}[n]$ son las respectivas entradas.\n",
    "\n",
    "$$\n",
    "\\begin{align*}\n",
    "T\\big\\{ x_{1}[n] + x_{2}[n] \\big\\} &= T\\big\\{ x_{1}[n]\\big\\} + T\\big\\{ x_{2}[n]\\big\\}=y_{1}[n]+y_{2}[n]\n",
    "\\end{align*}\n",
    "$$\n",
    "\n",
    "además, se considera que $a$ es una constante cualquiera: \n",
    "$$\n",
    "\\begin{align*}\n",
    "T\\big\\{ ax[n]\\big\\} &= aT\\big\\{ x[n]\\big\\}=ay[n]\n",
    "\\end{align*}\n",
    "$$\n",
    "\n",
    "Combinando ambas con $a$ y $b$ constantes:\n",
    "$$\n",
    "\\begin{align*}\n",
    "T\\big\\{ ax_{1}[n] + bx_{2}[n] \\big\\} &= aT\\big\\{ x_{1}[n]\\big\\} + bT\\big\\{ x_{2}[n]\\big\\} \\quad ;\\ a,b \\ constantes  \n",
    "\\end{align*} \n",
    "$$"
   ]
  },
  {
   "cell_type": "markdown",
   "id": "ca8ab642-a5b4-49ce-9c17-2cbb47252cc7",
   "metadata": {},
   "source": [
    "## Sistemas invariantes con el tiempo <a name='id2.2'></a>\n",
    "Un sistema invariante en el tiempo es aquel cuya respuesta no depende del momento en que se aplica la entrada. Es decir, si una entrada se retarda en el tiempo, la salida correspondiente se retarda en la misma cantidad. Quiere decir:\n",
    "\n",
    "$$\n",
    "\\begin{align*}\n",
    "x_{1}[n] =x[n-n_{d}]\n",
    "\\end{align*}\n",
    "$$\n",
    "$$ \n",
    "\\begin{align*}\n",
    "y_{1}[n] =y[n-n_{d}]\n",
    "\\end{align*}\n",
    "$$"
   ]
  },
  {
   "cell_type": "markdown",
   "id": "c316a969-2f24-44ad-a6b9-617b939024a0",
   "metadata": {},
   "source": [
    "## Sistemas lineales e invariantes en el tiempo (LTI) <a name='id2.3'></a>\n",
    "Los sistemas LTI son aquellos que cumplen dos propiedades: \n",
    " 1. Linealidad\n",
    "2. Invarianza en el tiempo"
   ]
  },
  {
   "cell_type": "markdown",
   "id": "62a8ac12-c8a8-4cf4-8ad9-7d33a055971f",
   "metadata": {},
   "source": [
    "# Suma de Convolución <a name='id3'></a>\n",
    "La convolución de dos series discretas, produce una nueva serie. Donde, cualquier señal de tiempo discreto se puede escribir como una suma infinita de deltas unitarios: \n",
    "$$\n",
    "\\begin{align*}\n",
    "x[n] &= \\sum_{k=0}^{\\infty} x[k] \\cdot \\delta[n - k] \n",
    "\\end{align*}\n",
    "$$"
   ]
  },
  {
   "cell_type": "code",
   "execution_count": 41,
   "id": "c3cf7f43-413a-4c1f-a41d-7cf74e41c796",
   "metadata": {},
   "outputs": [
    {
     "data": {
      "text/plain": [
       "array([ 5, 27, 28,  3, 14,  8])"
      ]
     },
     "execution_count": 41,
     "metadata": {},
     "output_type": "execute_result"
    }
   ],
   "source": [
    "# Código\n",
    "import numpy as np \n",
    "import matplotlib.animation as animation \n",
    "import matplotlib.pyplot as plt\n",
    "\n",
    "\n"
   ]
  }
 ],
 "metadata": {
  "kernelspec": {
   "display_name": "acus099",
   "language": "python",
   "name": "acus099"
  },
  "language_info": {
   "codemirror_mode": {
    "name": "ipython",
    "version": 3
   },
   "file_extension": ".py",
   "mimetype": "text/x-python",
   "name": "python",
   "nbconvert_exporter": "python",
   "pygments_lexer": "ipython3",
   "version": "3.9.19"
  }
 },
 "nbformat": 4,
 "nbformat_minor": 5
}
